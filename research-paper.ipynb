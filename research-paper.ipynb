{
  "nbformat": 4,
  "nbformat_minor": 0,
  "metadata": {
    "colab": {
      "name": "Copy of try-to-aply-my-alg.ipynb",
      "provenance": [],
      "collapsed_sections": [],
      "machine_shape": "hm"
    },
    "kernelspec": {
      "name": "python3",
      "display_name": "Python 3"
    },
    "accelerator": "GPU"
  },
  "cells": [
    {
      "cell_type": "markdown",
      "metadata": {
        "id": "rl2IXvZzKrbY",
        "colab_type": "text"
      },
      "source": [
        "### Unzip and load audio-files"
      ]
    },
    {
      "cell_type": "code",
      "metadata": {
        "id": "0omYm0fvFup8",
        "colab_type": "code",
        "outputId": "bb5dcb75-d131-414b-b917-859cfcb30a36",
        "colab": {
          "base_uri": "https://localhost:8080/",
          "height": 184
        }
      },
      "source": [
        "import zipfile\n",
        "from google.colab import drive\n",
        "\n",
        "!pip install soundfile\n",
        "drive.mount('/content/drive')"
      ],
      "execution_count": 11,
      "outputs": [
        {
          "output_type": "stream",
          "text": [
            "Requirement already satisfied: soundfile in /usr/local/lib/python3.6/dist-packages (0.10.3.post1)\n",
            "Requirement already satisfied: cffi>=1.0 in /usr/local/lib/python3.6/dist-packages (from soundfile) (1.13.2)\n",
            "Requirement already satisfied: pycparser in /usr/local/lib/python3.6/dist-packages (from cffi>=1.0->soundfile) (2.19)\n",
            "Go to this URL in a browser: https://accounts.google.com/o/oauth2/auth?client_id=947318989803-6bn6qk8qdgf4n4g3pfee6491hc0brc4i.apps.googleusercontent.com&redirect_uri=urn%3aietf%3awg%3aoauth%3a2.0%3aoob&response_type=code&scope=email%20https%3a%2f%2fwww.googleapis.com%2fauth%2fdocs.test%20https%3a%2f%2fwww.googleapis.com%2fauth%2fdrive%20https%3a%2f%2fwww.googleapis.com%2fauth%2fdrive.photos.readonly%20https%3a%2f%2fwww.googleapis.com%2fauth%2fpeopleapi.readonly\n",
            "\n",
            "Enter your authorization code:\n",
            "··········\n",
            "Mounted at /content/drive\n"
          ],
          "name": "stdout"
        }
      ]
    },
    {
      "cell_type": "code",
      "metadata": {
        "id": "js7PaFBmF1D8",
        "colab_type": "code",
        "colab": {}
      },
      "source": [
        "!rm -rf sample_data"
      ],
      "execution_count": 0,
      "outputs": []
    },
    {
      "cell_type": "code",
      "metadata": {
        "id": "SRnyYSUQdktw",
        "colab_type": "code",
        "colab": {}
      },
      "source": [
        "import os\n",
        "for root, folders, files in os.walk('/content/drive/My Drive/wav-iba/'):\n",
        "  for file in files:\n",
        "    if file.endswith('.zip'):\n",
        "      with zipfile.ZipFile(os.path.join(root, file), 'r') as zip_ref:\n",
        "        zip_ref.extractall('./sample_data')"
      ],
      "execution_count": 0,
      "outputs": []
    },
    {
      "cell_type": "code",
      "metadata": {
        "id": "jMeGzJncZnUA",
        "colab_type": "code",
        "outputId": "b86efefd-c1f3-4eff-889f-b45f9647bfa8",
        "colab": {
          "base_uri": "https://localhost:8080/",
          "height": 641
        }
      },
      "source": [
        "!cd sample_data/ && ls "
      ],
      "execution_count": 0,
      "outputs": [
        {
          "output_type": "stream",
          "text": [
            "id10001  id10035  id10069  id10502  id10536  id10570  id10604  id10638\tid10672\n",
            "id10002  id10036  id10070  id10503  id10537  id10571  id10605  id10639\tid10673\n",
            "id10003  id10037  id10071  id10504  id10538  id10572  id10606  id10640\tid10674\n",
            "id10004  id10038  id10072  id10505  id10539  id10573  id10607  id10641\tid10675\n",
            "id10005  id10039  id10073  id10506  id10540  id10574  id10608  id10642\tid10676\n",
            "id10006  id10040  id10074  id10507  id10541  id10575  id10609  id10643\tid10677\n",
            "id10007  id10041  id10075  id10508  id10542  id10576  id10610  id10644\tid10678\n",
            "id10008  id10042  id10076  id10509  id10543  id10577  id10611  id10645\tid10679\n",
            "id10009  id10043  id10077  id10510  id10544  id10578  id10612  id10646\tid10680\n",
            "id10010  id10044  id10078  id10511  id10545  id10579  id10613  id10647\tid10681\n",
            "id10011  id10045  id10079  id10512  id10546  id10580  id10614  id10648\tid10682\n",
            "id10012  id10046  id10080  id10513  id10547  id10581  id10615  id10649\tid10683\n",
            "id10013  id10047  id10081  id10514  id10548  id10582  id10616  id10650\tid10684\n",
            "id10014  id10048  id10082  id10515  id10549  id10583  id10617  id10651\tid10685\n",
            "id10015  id10049  id10083  id10516  id10550  id10584  id10618  id10652\tid10686\n",
            "id10016  id10050  id10084  id10517  id10551  id10585  id10619  id10653\tid10687\n",
            "id10017  id10051  id10085  id10518  id10552  id10586  id10620  id10654\tid10688\n",
            "id10018  id10052  id10086  id10519  id10553  id10587  id10621  id10655\tid10689\n",
            "id10019  id10053  id10087  id10520  id10554  id10588  id10622  id10656\tid10690\n",
            "id10020  id10054  id10088  id10521  id10555  id10589  id10623  id10657\tid10691\n",
            "id10021  id10055  id10089  id10522  id10556  id10590  id10624  id10658\tid10692\n",
            "id10022  id10056  id10090  id10523  id10557  id10591  id10625  id10659\tid10693\n",
            "id10023  id10057  id10091  id10524  id10558  id10592  id10626  id10660\tid10694\n",
            "id10024  id10058  id10092  id10525  id10559  id10593  id10627  id10661\tid10695\n",
            "id10025  id10059  id10093  id10526  id10560  id10594  id10628  id10662\tid10696\n",
            "id10026  id10060  id10094  id10527  id10561  id10595  id10629  id10663\tid10697\n",
            "id10027  id10061  id10095  id10528  id10562  id10596  id10630  id10664\tid10698\n",
            "id10028  id10062  id10096  id10529  id10563  id10597  id10631  id10665\tid10699\n",
            "id10029  id10063  id10097  id10530  id10564  id10598  id10632  id10666\tid10700\n",
            "id10030  id10064  id10098  id10531  id10565  id10599  id10633  id10667\twav200\n",
            "id10031  id10065  id10099  id10532  id10566  id10600  id10634  id10668\n",
            "id10032  id10066  id10100  id10533  id10567  id10601  id10635  id10669\n",
            "id10033  id10067  id10500  id10534  id10568  id10602  id10636  id10670\n",
            "id10034  id10068  id10501  id10535  id10569  id10603  id10637  id10671\n"
          ],
          "name": "stdout"
        }
      ]
    },
    {
      "cell_type": "markdown",
      "metadata": {
        "id": "2vqN68d4KxCw",
        "colab_type": "text"
      },
      "source": [
        "### A piece of ML =)"
      ]
    },
    {
      "cell_type": "code",
      "metadata": {
        "id": "SLkCvqSpJ1U4",
        "colab_type": "code",
        "colab": {}
      },
      "source": [
        "import sys\n",
        "import re\n",
        "import numpy as np\n",
        "import pandas as pd\n",
        "import pickle\n",
        "import os\n",
        "import matplotlib.pyplot as plt\n",
        "%matplotlib inline\n",
        "\n",
        "import time\n",
        "\n",
        "from sklearn.model_selection import train_test_split\n",
        "\n",
        "import tensorflow as tf\n",
        "from tensorflow import keras\n",
        "\n",
        "from keras.models import Sequential, Model\n",
        "from keras.optimizers import Adam, RMSprop\n",
        "from keras.layers import Conv2D, ZeroPadding2D, Activation, Input, concatenate\n",
        "\n",
        "from keras import layers\n",
        "from keras.layers.normalization import BatchNormalization\n",
        "from keras.layers.pooling import MaxPooling2D\n",
        "from keras.layers.merge import Concatenate\n",
        "from keras.layers.core import Lambda, Flatten, Dense\n",
        "from keras.initializers import glorot_uniform\n",
        "\n",
        "from keras.utils import plot_model\n",
        "\n",
        "from keras.engine.topology import Layer\n",
        "from keras.regularizers import l2\n",
        "from keras import backend as K\n",
        "\n",
        "from sklearn.utils import shuffle\n",
        "\n",
        "import soundfile as sf\n",
        "import numpy.random as rand"
      ],
      "execution_count": 0,
      "outputs": []
    },
    {
      "cell_type": "code",
      "metadata": {
        "id": "VLOLBHJkPc4M",
        "colab_type": "code",
        "colab": {}
      },
      "source": [
        "LIBRISPEECH_SAMPLING_RATE = 16000\n",
        "SECONDS = 4\n",
        "downsampling = 4 \n",
        "FRAGMENT_LENGTH = int(SECONDS * LIBRISPEECH_SAMPLING_RATE)"
      ],
      "execution_count": 0,
      "outputs": []
    },
    {
      "cell_type": "code",
      "metadata": {
        "id": "UZSnBhbTKZ8o",
        "colab_type": "code",
        "colab": {}
      },
      "source": [
        "def make_one_shot_task(N):\n",
        "    rand_cat = df.sample(1)[['id', 'audio_path']]\n",
        "    true_cat = rand_cat.iloc[0]\n",
        "    true_wav = load_wav(true_cat['audio_path'])\n",
        "\n",
        "    test_cat = df.query(f'(id == {true_cat[\"id\"]}) & (audio_path != \"{true_cat[\"audio_path\"]}\")')\\\n",
        "                 .sample(1)\n",
        "\n",
        "    true_test_wav = load_wav(test_cat.iloc[0]['audio_path'])\n",
        "\n",
        "    true_set = np.array([true_wav for _ in range(N)])\n",
        "    test_set = np.array([load_wav(row['audio_path']) for index, row in df[df['id'] != true_cat['id']].sample(N).iterrows()])\n",
        "    test_set[-1] = true_test_wav\n",
        "\n",
        "    targets = np.zeros((N, ))\n",
        "    targets[-1] = 1\n",
        "    return [true_set, test_set], targets\n",
        "\n",
        "def test_oneshot(model, N, k):\n",
        "    \"\"\"Test average N way oneshot learning accuracy of a siamese neural net over k one-shot tasks\"\"\"\n",
        "    n_correct = 0\n",
        "    for i in range(k):\n",
        "        inputs, targets = make_one_shot_task(N)\n",
        "        probs = model.predict(inputs)\n",
        "        if np.argmax(probs) == np.argmax(targets):\n",
        "            n_correct += 1\n",
        "    percent_correct = n_correct / k\n",
        "    return percent_correct\n",
        "\n",
        "def get_batch(batch_size):\n",
        "    \"\"\"Create batch of n pairs, half same class, half different class\"\"\"\n",
        "    rand_cat = df.sample(batch_size)[['id', 'audio_path']]\n",
        "\n",
        "    pairs = [np.zeros((batch_size, FRAGMENT_LENGTH // downsampling, 1)) for i in range(2)]\n",
        "    targets = np.zeros((batch_size,))\n",
        "    targets[batch_size // 2:] = 1\n",
        "\n",
        "    for i in range(batch_size):\n",
        "        category = rand_cat.iloc[i]\n",
        "        pairs[0][i, :] = load_wav(category['audio_path'])\n",
        "\n",
        "        if i >= batch_size // 2:\n",
        "            category_2 = df[df['id'] == category['id']].sample(1).iloc[0]\n",
        "        else:\n",
        "            category_2 = df[df['id'] != category['id']].sample(1).iloc[0]\n",
        "          \n",
        "        pairs[1][i, :] = load_wav(category_2['audio_path'])\n",
        "\n",
        "    return pairs, targets\n",
        "\n",
        "def load_wav(path):\n",
        "    instance, samplerate = sf.read(path)\n",
        "    return instance[: FRAGMENT_LENGTH:downsampling].reshape(FRAGMENT_LENGTH // downsampling, 1)\n",
        "\n",
        "\n",
        "def wavs_to_df(path, n=0):\n",
        "    '''\n",
        "    params:\n",
        "        path: str, full path of root wav directory\n",
        "    return:\n",
        "        pd: DataFrame, with audio length > SECONDS\n",
        "    '''\n",
        "    data = []\n",
        "\n",
        "    for root, folders, files in os.walk(path):\n",
        "        for file in files:\n",
        "            full_path = os.path.join(root, file)\n",
        "            instance, samplerate = sf.read(full_path)\n",
        "            data.append([re.search(r'id(\\d+)', full_path).group(1), \n",
        "                         full_path, \n",
        "                         len(instance),\n",
        "                         len(instance) / LIBRISPEECH_SAMPLING_RATE])\n",
        "\n",
        "    temp_df = pd.DataFrame(data=data,\n",
        "                      columns=['id', 'audio_path', 'length', 'seconds'])\n",
        "\n",
        "    temp_df['id'] = temp_df['id'].astype('int')\n",
        "    temp_df['seconds'] = temp_df['seconds'].astype('float')\n",
        "    temp_df['length'] = temp_df['length'].astype('int')\n",
        "\n",
        "    return temp_df[temp_df['seconds'] > SECONDS]\n"
      ],
      "execution_count": 0,
      "outputs": []
    },
    {
      "cell_type": "code",
      "metadata": {
        "id": "mrrGtLktP3g4",
        "colab_type": "code",
        "colab": {}
      },
      "source": [
        "df = pd.read_csv('/content/drive/My Drive/wav-iba/full.csv')"
      ],
      "execution_count": 0,
      "outputs": []
    },
    {
      "cell_type": "code",
      "metadata": {
        "id": "uyhhA80xyb24",
        "colab_type": "code",
        "colab": {}
      },
      "source": [
        "df = wavs_to_df('sample_data')"
      ],
      "execution_count": 0,
      "outputs": []
    },
    {
      "cell_type": "code",
      "metadata": {
        "id": "DdSLidXLX_Ts",
        "colab_type": "code",
        "colab": {}
      },
      "source": [
        "def get_baseline_convolutional_encoder(filters, embedding_dimension, input_shape=None, dropout=0.05):\n",
        "    encoder = Sequential()\n",
        "\n",
        "    encoder.add(layers.Conv1D(filters, 32, padding='same', activation='relu', input_shape=input_shape))\n",
        " \n",
        "    encoder.add(layers.BatchNormalization())\n",
        "    encoder.add(layers.SpatialDropout1D(dropout))\n",
        "    encoder.add(layers.MaxPool1D(4, 4))\n",
        "\n",
        "    encoder.add(layers.Conv1D(2 * filters, 3, padding='same', activation='relu'))\n",
        "    encoder.add(layers.BatchNormalization())\n",
        "    encoder.add(layers.SpatialDropout1D(dropout))\n",
        "    encoder.add(layers.MaxPool1D())\n",
        "\n",
        "    encoder.add(layers.Conv1D(3 * filters, 3, padding='same', activation='relu'))\n",
        "    encoder.add(layers.BatchNormalization())\n",
        "    encoder.add(layers.SpatialDropout1D(dropout))\n",
        "    encoder.add(layers.MaxPool1D())\n",
        "\n",
        "    encoder.add(layers.Conv1D(4 * filters, 3, padding='same', activation='relu'))\n",
        "    encoder.add(layers.BatchNormalization())\n",
        "    encoder.add(layers.SpatialDropout1D(dropout))\n",
        "    encoder.add(layers.MaxPool1D())\n",
        "\n",
        "    encoder.add(layers.GlobalMaxPool1D())\n",
        "\n",
        "    encoder.add(layers.Dense(embedding_dimension))\n",
        "\n",
        "    return encoder\n",
        "\n",
        "\n",
        "def eucl_dist_output_shape(shapes):\n",
        "    shape1, shape2 = shapes\n",
        "    return (shape1[0], 1)\n",
        "\n",
        "\n",
        "def euclidean_distance(vects):\n",
        "    x, y = vects\n",
        "    sum_square = K.sum(K.square(x - y), axis=1, keepdims=True)\n",
        "    return K.sqrt(K.maximum(sum_square, K.epsilon()))\n",
        "\n",
        "\n",
        "def build_siamese_net(encoder, input_shape,  distance_metric='uniform_euclidean'):\n",
        "    input_1 = layers.Input(input_shape)\n",
        "    input_2 = layers.Input(input_shape)\n",
        "\n",
        "    encoded_1 = encoder(input_1)\n",
        "    encoded_2 = encoder(input_2)\n",
        "\n",
        "   \n",
        "    distance = Lambda(euclidean_distance,\n",
        "                      output_shape=eucl_dist_output_shape)\n",
        "                      ([encoded_1, encoded_2])\n",
        "\n",
        "    #output = layers.Dense(1, activation='sigmoid')(distance)\n",
        "\n",
        "    siamese = Model(inputs=[input_1, input_2], outputs=distance)\n",
        "\n",
        "    return siamese\n",
        "\n",
        "\n",
        "def test_oneshot(model, N, k):\n",
        "    \"\"\"Test average N way oneshot learning accuracy of a siamese neural net over k one-shot tasks\"\"\"\n",
        "    n_correct = 0\n",
        "    for i in range(k):\n",
        "        inputs, targets = make_one_shot_task(N)\n",
        "        probs = model.predict(inputs)\n",
        "        if np.argmin(probs) == np.argmax(targets):\n",
        "            n_correct += 1\n",
        "    percent_correct = n_correct / k\n",
        "    return percent_correct"
      ],
      "execution_count": 0,
      "outputs": []
    },
    {
      "cell_type": "code",
      "metadata": {
        "id": "Fi6Mp_gnlWnI",
        "colab_type": "code",
        "colab": {}
      },
      "source": [
        "def accuracy(y_true, y_pred):\n",
        "    '''Compute classification accuracy with a fixed threshold on distances.\n",
        "    '''\n",
        "    return K.mean(K.equal(y_true, K.cast(y_pred < 1, y_true.dtype)))\n",
        "\n",
        "def contrastive_loss(y_true, y_pred):\n",
        "    '''Contrastive loss from Hadsell-et-al.'06\n",
        "    http://yann.lecun.com/exdb/publis/pdf/hadsell-chopra-lecun-06.pdf\n",
        "    '''\n",
        "    margin = 1\n",
        "    square_pred = K.square(y_pred)\n",
        "    margin_square = K.square(K.maximum(margin - y_pred, 0))\n",
        "    return K.mean(y_true * square_pred + (1 - y_true) * margin_square)"
      ],
      "execution_count": 0,
      "outputs": []
    },
    {
      "cell_type": "code",
      "metadata": {
        "id": "X-0dcHJdW0A8",
        "colab_type": "code",
        "outputId": "1b20b894-986c-472b-bafd-9bd478325031",
        "colab": {
          "base_uri": "https://localhost:8080/",
          "height": 312
        }
      },
      "source": [
        "filters = 128\n",
        "embedding_dimension = 64\n",
        "dropout = 0.0\n",
        "\n",
        "input_length = FRAGMENT_LENGTH // downsampling\n",
        "\n",
        "\n",
        "encoder = get_baseline_convolutional_encoder(filters, embedding_dimension, dropout=dropout)\n",
        "siamese = build_siamese_net(encoder, (input_length, 1))\n",
        "opt = RMSprop() #Adam(clipnorm=1.)\n",
        "siamese.compile(loss=contrastive_loss, optimizer=opt, metrics=[accuracy])\n",
        "plot_model(siamese, show_shapes=True, to_file='siamese.png')"
      ],
      "execution_count": 0,
      "outputs": [
        {
          "output_type": "execute_result",
          "data": {
            "image/png": "[encoded data removed]",
            "text/plain": [
              "<IPython.core.display.Image object>"
            ]
          },
          "metadata": {
            "tags": []
          },
          "execution_count": 197
        }
      ]
    },
    {
      "cell_type": "code",
      "metadata": {
        "id": "EkMczJ4j08xU",
        "colab_type": "code",
        "colab": {}
      },
      "source": [
        "batch_size = 25\n",
        "evaluate_every = 50\n",
        "batch_size = 26\n",
        "n_iter = 1000 # No. of training iterations\n",
        "N_way = 10 # how many classes for testing one-shot tasks\n",
        "n_val = 10 # how many one-shot tasks to validate on\n",
        "best = -1"
      ],
      "execution_count": 0,
      "outputs": []
    },
    {
      "cell_type": "code",
      "metadata": {
        "id": "MkGMYYO_4r6o",
        "colab_type": "code",
        "colab": {}
      },
      "source": [
        "losslst, acclst = [], []\n",
        "full_acclst = []"
      ],
      "execution_count": 0,
      "outputs": []
    },
    {
      "cell_type": "code",
      "metadata": {
        "id": "jA_qCM1c5cLs",
        "colab_type": "code",
        "colab": {}
      },
      "source": [
        "def save_all(loss, acc, full):\n",
        "    with open('/content/drive/My Drive/wav-iba/graphics/loss2.pickle', 'wb') as f:\n",
        "        pickle.dump(loss, f)\n",
        "    with open('/content/drive/My Drive/wav-iba/graphics/acc2.pickle', 'wb') as f:\n",
        "        pickle.dump(acc, f)\n",
        "    with open('/content/drive/My Drive/wav-iba/graphics/full2.pickle', 'wb') as f:\n",
        "        pickle.dump(full, f)      "
      ],
      "execution_count": 0,
      "outputs": []
    },
    {
      "cell_type": "code",
      "metadata": {
        "id": "451u2rcy0sj0",
        "colab_type": "code",
        "outputId": "c9a5c300-46e2-4830-bb55-4ed5e32350e6",
        "colab": {
          "base_uri": "https://localhost:8080/",
          "height": 1000
        }
      },
      "source": [
        "print(\"Starting training process!\")\n",
        "print(\"-------------------------------------\")\n",
        "t_start = time.time()\n",
        "for i in range(1, n_iter + 1):\n",
        "    (inputs,targets) = get_batch(batch_size)\n",
        "    loss = siamese.train_on_batch(inputs, targets)\n",
        "    losslst.append(loss[0])\n",
        "    acclst.append(loss[1])\n",
        "      \n",
        "    if i % evaluate_every == 0: \n",
        "        print(\"\\n ------------- \\n\")\n",
        "        print(\"Time for {0} iterations: {1} mins\".format(i, (time.time() - t_start) / 60.0))\n",
        "        print(\"Train Loss: {0}\".format(loss)) \n",
        "        val_acc = test_oneshot(siamese, N_way, n_val)\n",
        "        full_acclst.append(val_acc)\n",
        "\n",
        "        print(f\"Current acc: {val_acc}\")\n",
        "        save_all(losslst, acclst, full_acclst)\n",
        "        siamese.save_weights(f'/content/drive/My Drive/wav-iba/weights/test-weights.{i}.score{val_acc}.h5')\n",
        "\n",
        "        if val_acc >= best:\n",
        "            print(\"Current best: {0}, previous best: {1}\".format(val_acc, best))\n",
        "            best = val_acc"
      ],
      "execution_count": 0,
      "outputs": [
        {
          "output_type": "stream",
          "text": [
            "Starting training process!\n",
            "-------------------------------------\n",
            "\n",
            " ------------- \n",
            "\n",
            "Time for 50 iterations: 0.3867914001146952 mins\n",
            "Train Loss: [8.049962, 0.5]\n",
            "Current acc: 0.1\n",
            "Current best: 0.1, previous best: -1\n",
            "\n",
            " ------------- \n",
            "\n",
            "Time for 100 iterations: 0.7118527889251709 mins\n",
            "Train Loss: [0.81157327, 0.53846157]\n",
            "Current acc: 0.0\n",
            "\n",
            " ------------- \n",
            "\n",
            "Time for 150 iterations: 0.9911011854807535 mins\n",
            "Train Loss: [0.38590938, 0.65384614]\n",
            "Current acc: 0.1\n",
            "Current best: 0.1, previous best: 0.1\n",
            "\n",
            " ------------- \n",
            "\n",
            "Time for 200 iterations: 1.2716635942459107 mins\n",
            "Train Loss: [0.38424858, 0.53846157]\n",
            "Current acc: 0.1\n",
            "Current best: 0.1, previous best: 0.1\n",
            "\n",
            " ------------- \n",
            "\n",
            "Time for 250 iterations: 1.5487627585728962 mins\n",
            "Train Loss: [0.21327423, 0.5]\n",
            "Current acc: 0.3\n",
            "Current best: 0.3, previous best: 0.1\n",
            "\n",
            " ------------- \n",
            "\n",
            "Time for 300 iterations: 1.8247226397196452 mins\n",
            "Train Loss: [0.35491455, 0.5769231]\n",
            "Current acc: 0.3\n",
            "Current best: 0.3, previous best: 0.3\n",
            "\n",
            " ------------- \n",
            "\n",
            "Time for 350 iterations: 2.1011335372924806 mins\n",
            "Train Loss: [0.275717, 0.5]\n",
            "Current acc: 0.4\n",
            "Current best: 0.4, previous best: 0.3\n",
            "\n",
            " ------------- \n",
            "\n",
            "Time for 400 iterations: 2.3730987548828124 mins\n",
            "Train Loss: [0.2114632, 0.5]\n",
            "Current acc: 0.5\n",
            "Current best: 0.5, previous best: 0.4\n",
            "\n",
            " ------------- \n",
            "\n",
            "Time for 450 iterations: 2.645038378238678 mins\n",
            "Train Loss: [0.34402344, 0.5]\n",
            "Current acc: 0.3\n",
            "\n",
            " ------------- \n",
            "\n",
            "Time for 500 iterations: 2.9212853074073792 mins\n",
            "Train Loss: [2.007508, 0.42307693]\n",
            "Current acc: 0.2\n",
            "\n",
            " ------------- \n",
            "\n",
            "Time for 550 iterations: 3.193958616256714 mins\n",
            "Train Loss: [0.2387286, 0.5]\n",
            "Current acc: 0.1\n",
            "\n",
            " ------------- \n",
            "\n",
            "Time for 600 iterations: 3.469484023253123 mins\n",
            "Train Loss: [0.26068464, 0.53846157]\n",
            "Current acc: 0.1\n",
            "\n",
            " ------------- \n",
            "\n",
            "Time for 650 iterations: 3.741895067691803 mins\n",
            "Train Loss: [0.27022478, 0.5]\n",
            "Current acc: 0.3\n",
            "\n",
            " ------------- \n",
            "\n",
            "Time for 700 iterations: 4.019167836507162 mins\n",
            "Train Loss: [0.22214778, 0.53846157]\n",
            "Current acc: 0.2\n",
            "\n",
            " ------------- \n",
            "\n",
            "Time for 750 iterations: 4.295762876669566 mins\n",
            "Train Loss: [1.9936732, 0.5]\n",
            "Current acc: 0.2\n",
            "\n",
            " ------------- \n",
            "\n",
            "Time for 800 iterations: 4.573650936285655 mins\n",
            "Train Loss: [0.19919197, 0.65384614]\n",
            "Current acc: 0.5\n",
            "Current best: 0.5, previous best: 0.5\n",
            "\n",
            " ------------- \n",
            "\n",
            "Time for 850 iterations: 4.845469148953756 mins\n",
            "Train Loss: [0.22079709, 0.53846157]\n",
            "Current acc: 0.3\n",
            "\n",
            " ------------- \n",
            "\n",
            "Time for 900 iterations: 5.121640300750732 mins\n",
            "Train Loss: [0.21769945, 0.53846157]\n",
            "Current acc: 0.2\n",
            "\n",
            " ------------- \n",
            "\n",
            "Time for 950 iterations: 5.393784749507904 mins\n",
            "Train Loss: [0.28855225, 0.53846157]\n",
            "Current acc: 0.1\n",
            "\n",
            " ------------- \n",
            "\n",
            "Time for 1000 iterations: 5.6649832129478455 mins\n",
            "Train Loss: [0.218951, 0.46153846]\n",
            "Current acc: 0.2\n"
          ],
          "name": "stdout"
        }
      ]
    },
    {
      "cell_type": "code",
      "metadata": {
        "colab_type": "code",
        "id": "BXdcBUcMqdio",
        "colab": {}
      },
      "source": [
        "acc, loss = [], []\n",
        "\n",
        "with open('/content/drive/My Drive/wav-iba/graphics/loss2.pickle', 'rb') as f:\n",
        "    loss = pickle.load(f)\n",
        "with open('/content/drive/My Drive/wav-iba/graphics/acc2.pickle', 'rb') as f:\n",
        "    acc = pickle.load(f)"
      ],
      "execution_count": 0,
      "outputs": []
    },
    {
      "cell_type": "code",
      "metadata": {
        "id": "8OuqjYJwJ6io",
        "colab_type": "code",
        "colab": {}
      },
      "source": [
        "X = list(range(0, len(acc)))"
      ],
      "execution_count": 0,
      "outputs": []
    },
    {
      "cell_type": "code",
      "metadata": {
        "id": "AGV2RUJHKF94",
        "colab_type": "code",
        "outputId": "16a8588e-013c-4b23-819d-95768a5fb7b0",
        "colab": {
          "base_uri": "https://localhost:8080/",
          "height": 283
        }
      },
      "source": [
        "plt.plot(X[50:], loss[50:])"
      ],
      "execution_count": 0,
      "outputs": [
        {
          "output_type": "execute_result",
          "data": {
            "text/plain": [
              "[<matplotlib.lines.Line2D at 0x7fdfe1e56940>]"
            ]
          },
          "metadata": {
            "tags": []
          },
          "execution_count": 210
        },
        {
          "output_type": "display_data",
          "data": {
            "image/png": "[encoded data removed]",
            "text/plain": [
              "<Figure size 432x288 with 1 Axes>"
            ]
          },
          "metadata": {
            "tags": []
          }
        }
      ]
    },
    {
      "cell_type": "code",
      "metadata": {
        "id": "2aNR8oRFCz_w",
        "colab_type": "code",
        "outputId": "5b73488b-a17c-4660-9c85-989555828eba",
        "colab": {
          "base_uri": "https://localhost:8080/",
          "height": 283
        }
      },
      "source": [
        "plt.plot(X, acc)"
      ],
      "execution_count": 0,
      "outputs": [
        {
          "output_type": "execute_result",
          "data": {
            "text/plain": [
              "[<matplotlib.lines.Line2D at 0x7fdfe1f45a20>]"
            ]
          },
          "metadata": {
            "tags": []
          },
          "execution_count": 207
        },
        {
          "output_type": "display_data",
          "data": {
            "image/png": "[encoded data removed]",
            "text/plain": [
              "<Figure size 432x288 with 1 Axes>"
            ]
          },
          "metadata": {
            "tags": []
          }
        }
      ]
    },
    {
      "cell_type": "code",
      "metadata": {
        "id": "_75318hlDYQE",
        "colab_type": "code",
        "outputId": "eef1ea96-a567-41d5-928d-b482ed77928c",
        "colab": {
          "base_uri": "https://localhost:8080/",
          "height": 283
        }
      },
      "source": [
        "with open('/content/drive/My Drive/wav-iba/graphics/full2.pickle', 'rb') as f:\n",
        "    full_acc = pickle.load(f)\n",
        "\n",
        "X2 = list(range(49, 50 * len(full_acc) + 1, 50))\n",
        "plt.plot(X2, full_acc)"
      ],
      "execution_count": 14,
      "outputs": [
        {
          "output_type": "execute_result",
          "data": {
            "text/plain": [
              "[<matplotlib.lines.Line2D at 0x7fd6412e3128>]"
            ]
          },
          "metadata": {
            "tags": []
          },
          "execution_count": 14
        },
        {
          "output_type": "display_data",
          "data": {
            "image/png": "[encoded data removed]",
            "text/plain": [
              "<Figure size 432x288 with 1 Axes>"
            ]
          },
          "metadata": {
            "tags": []
          }
        }
      ]
    }
  ]
}